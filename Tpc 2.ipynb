{
 "cells": [
  {
   "cell_type": "markdown",
   "metadata": {},
   "source": [
    "## Trabalho de casa nº2"
   ]
  },
  {
   "cell_type": "markdown",
   "metadata": {},
   "source": [
    "**Identificador**: Trabalho\n",
    "\n",
    "**Título**: Adivinhar número\n",
    "\n",
    "**Data início**: 2021-10-12 **Data fim**: 2021-10-16\n",
    "\n",
    "**Supervisor**: José Carlos Ramalho, https://www.di.uminho.pt/~jcr/thesup-v2.php\n",
    "\n",
    "**Autor**: Raquel Vitorino Lima\n"
   ]
  },
  {
   "cell_type": "markdown",
   "metadata": {},
   "source": [
    "### Resumo:\n"
   ]
  },
  {
   "cell_type": "markdown",
   "metadata": {},
   "source": [
    "Com o trabalho proposto pretende-se desenvolver um código em que o computador seja capaz, através de sucessivas perguntas, adivinhar o número que o utilizador está a pensar.\n",
    "Para tal usou-se o algoritmo de pesquisa binária. Este algoritmo faz sucessivas divisões, comparando o elemento intermédio com o elemento em questão procurado. Se o elemento intermédio for superior ao elemento procurado, o programa vai continuar a procurar na metade anterior. Se o elemento intermédio for inferior ao elemento procurado, o programa vai continuar a procurar na metade posterior. E assim sucessivamente.\n"
   ]
  },
  {
   "cell_type": "markdown",
   "metadata": {},
   "source": [
    "### Código:"
   ]
  },
  {
   "cell_type": "code",
   "execution_count": 1,
   "metadata": {},
   "outputs": [
    {
     "name": "stdout",
     "output_type": "stream",
     "text": [
      "Por favor, pense num número entre 0 e 100.\n",
      "O seu número é inferior, igual ou superior a 50 ?:inferior\n",
      "Número de tentativas=  1\n",
      "O seu número é inferior, igual ou superior a 25 ?:inferior\n",
      "Número de tentativas=  2\n",
      "O seu número é inferior, igual ou superior a 12 ?:superior\n",
      "Número de tentativas=  3\n",
      "O seu número é inferior, igual ou superior a 18 ?:inferior\n",
      "Número de tentativas=  4\n",
      "O seu número é inferior, igual ou superior a 15 ?:superior\n",
      "Número de tentativas=  5\n",
      "O seu número é inferior, igual ou superior a 16 ?:superior\n",
      "Número de tentativas=  6\n",
      "O seu número é inferior, igual ou superior a 17 ?:igual\n",
      "Número de tentativas=  7\n",
      "Número encontrado! O número em que estava a pensar é o 17 !\n"
     ]
    },
    {
     "data": {
      "text/plain": [
       "7"
      ]
     },
     "execution_count": 1,
     "metadata": {},
     "output_type": "execute_result"
    }
   ],
   "source": [
    "def adivinhenumero(n1 , n2, t):\n",
    "    print(\"Por favor, pense num número entre 0 e 100.\")\n",
    "    achar= False\n",
    "    t=0\n",
    "    while achar== False:\n",
    "        intermedio= (n1+n2)//2\n",
    "        n=input(\"O seu número é inferior, igual ou superior a %d ?:\"  %intermedio  )\n",
    "        if n== \"inferior\":\n",
    "            achar=False\n",
    "            n2= intermedio\n",
    "            t=t+1\n",
    "            print(\"Número de tentativas= \", t)\n",
    "           \n",
    "        elif n== \"igual\":\n",
    "            achar=True\n",
    "            t=t +1\n",
    "            print(\"Número de tentativas= \", t)\n",
    "            \n",
    "        elif n== \"superior\":\n",
    "            n1= intermedio\n",
    "            t=t +1\n",
    "            print(\"Número de tentativas= \", t)\n",
    "            achar=False\n",
    "        \n",
    "        \n",
    "    if achar==True:\n",
    "        print(\"Número encontrado! O número em que estava a pensar é o\", intermedio,\"!\" )\n",
    "    return t\n",
    "        \n",
    "adivinhenumero(0,100, 0)\n"
   ]
  },
  {
   "cell_type": "code",
   "execution_count": null,
   "metadata": {},
   "outputs": [],
   "source": []
  }
 ],
 "metadata": {
  "kernelspec": {
   "display_name": "Python 3",
   "language": "python",
   "name": "python3"
  },
  "language_info": {
   "codemirror_mode": {
    "name": "ipython",
    "version": 3
   },
   "file_extension": ".py",
   "mimetype": "text/x-python",
   "name": "python",
   "nbconvert_exporter": "python",
   "pygments_lexer": "ipython3",
   "version": "3.8.3"
  }
 },
 "nbformat": 4,
 "nbformat_minor": 4
}
